{
  "nbformat": 4,
  "nbformat_minor": 0,
  "metadata": {
    "colab": {
      "name": "Анализ немецкого кредитного риска",
      "provenance": [],
      "collapsed_sections": []
    },
    "kernelspec": {
      "name": "python3",
      "display_name": "Python 3"
    }
  },
  "cells": [
    {
      "cell_type": "markdown",
      "metadata": {
        "id": "InoAdlWmUkzl"
      },
      "source": [
        "# **Немецкий кредитный риск**\n",
        "# Кредитная классификация"
      ]
    },
    {
      "cell_type": "markdown",
      "metadata": {
        "id": "-Vv5exGpF8j7"
      },
      "source": [
        "# **Описание**\n",
        "Исходный набор данных содержит 1000 записей с 20 категориальными / символическими атрибутами, подготовленными профессором Хофманном. В этом наборе данных каждая запись представляет человека, который берет кредит в банке. Каждый человек классифицируется как хороший или плохой кредитный риск в соответствии с набором атрибутов."
      ]
    },
    {
      "cell_type": "markdown",
      "metadata": {
        "id": "8Pfg2Y8WGdhE"
      },
      "source": [
        "# Заливка данных"
      ]
    },
    {
      "cell_type": "code",
      "metadata": {
        "id": "95cRsRYV4HQb"
      },
      "source": [
        "import pandas as pd\n",
        "import numpy as np"
      ],
      "execution_count": 1,
      "outputs": []
    },
    {
      "cell_type": "code",
      "metadata": {
        "colab": {
          "base_uri": "https://localhost:8080/"
        },
        "id": "PWh7Mi3U4Us3",
        "outputId": "ca930557-8c03-471b-bca7-57be15de2d7b"
      },
      "source": [
        "!gdown --id 1pmGSMI2LuvsiBaBG5v7N8xfPedZbF020"
      ],
      "execution_count": 2,
      "outputs": [
        {
          "output_type": "stream",
          "text": [
            "Downloading...\n",
            "From: https://drive.google.com/uc?id=1pmGSMI2LuvsiBaBG5v7N8xfPedZbF020\n",
            "To: /content/german-credit.csv\n",
            "\r  0% 0.00/50.5k [00:00<?, ?B/s]\r100% 50.5k/50.5k [00:00<00:00, 20.1MB/s]\n"
          ],
          "name": "stdout"
        }
      ]
    },
    {
      "cell_type": "markdown",
      "metadata": {
        "id": "mWtbTdQots5J"
      },
      "source": [
        "## Предобработка"
      ]
    },
    {
      "cell_type": "markdown",
      "metadata": {
        "id": "tlmC4WRNt7uR"
      },
      "source": [
        "Age (numeric)  \n",
        "Sex (text: male, female)  \n",
        "Job (numeric: 0 - unskilled and non-resident, 1 - unskilled and resident, 2 - skilled, 3 - highly skilled)  \n",
        "Housing (text: own, rent, or free)  \n",
        "Saving accounts (text - little, moderate, quite rich, rich)  \n",
        "Checking account (numeric, in DM - Deutsch Mark)  \n",
        "Credit amount (numeric, in DM)  \n",
        "Duration (numeric, in month)  \n",
        "Purpose (text: car, furniture/equipment, radio/TV, domestic appliances, repairs, education, business, vacation/others)  \n",
        "default (1 - bad, 0 - good)\n"
      ]
    },
    {
      "cell_type": "markdown",
      "metadata": {
        "id": "9FStnqPpuNIZ"
      },
      "source": [
        "Задание: проанализировать от чего зависит default"
      ]
    },
    {
      "cell_type": "code",
      "metadata": {
        "id": "6FoB8pfjrtMN"
      },
      "source": [
        "df = pd.read_csv('/content/german-credit.csv')"
      ],
      "execution_count": 3,
      "outputs": []
    },
    {
      "cell_type": "code",
      "metadata": {
        "colab": {
          "base_uri": "https://localhost:8080/",
          "height": 204
        },
        "id": "MsiKW51VsuNu",
        "outputId": "121ef0a6-8660-46b9-aa4c-c1c691ef8305"
      },
      "source": [
        "df.head()"
      ],
      "execution_count": 4,
      "outputs": [
        {
          "output_type": "execute_result",
          "data": {
            "text/html": [
              "<div>\n",
              "<style scoped>\n",
              "    .dataframe tbody tr th:only-of-type {\n",
              "        vertical-align: middle;\n",
              "    }\n",
              "\n",
              "    .dataframe tbody tr th {\n",
              "        vertical-align: top;\n",
              "    }\n",
              "\n",
              "    .dataframe thead th {\n",
              "        text-align: right;\n",
              "    }\n",
              "</style>\n",
              "<table border=\"1\" class=\"dataframe\">\n",
              "  <thead>\n",
              "    <tr style=\"text-align: right;\">\n",
              "      <th></th>\n",
              "      <th>Unnamed: 0</th>\n",
              "      <th>Age</th>\n",
              "      <th>Sex</th>\n",
              "      <th>Job</th>\n",
              "      <th>Housing</th>\n",
              "      <th>Saving accounts</th>\n",
              "      <th>Checking account</th>\n",
              "      <th>Credit amount</th>\n",
              "      <th>Duration</th>\n",
              "      <th>Purpose</th>\n",
              "      <th>default</th>\n",
              "    </tr>\n",
              "  </thead>\n",
              "  <tbody>\n",
              "    <tr>\n",
              "      <th>0</th>\n",
              "      <td>0</td>\n",
              "      <td>67</td>\n",
              "      <td>male</td>\n",
              "      <td>2</td>\n",
              "      <td>own</td>\n",
              "      <td>NaN</td>\n",
              "      <td>little</td>\n",
              "      <td>1169</td>\n",
              "      <td>6</td>\n",
              "      <td>radio/TV</td>\n",
              "      <td>0</td>\n",
              "    </tr>\n",
              "    <tr>\n",
              "      <th>1</th>\n",
              "      <td>1</td>\n",
              "      <td>22</td>\n",
              "      <td>female</td>\n",
              "      <td>2</td>\n",
              "      <td>own</td>\n",
              "      <td>little</td>\n",
              "      <td>moderate</td>\n",
              "      <td>5951</td>\n",
              "      <td>48</td>\n",
              "      <td>radio/TV</td>\n",
              "      <td>1</td>\n",
              "    </tr>\n",
              "    <tr>\n",
              "      <th>2</th>\n",
              "      <td>2</td>\n",
              "      <td>49</td>\n",
              "      <td>male</td>\n",
              "      <td>1</td>\n",
              "      <td>own</td>\n",
              "      <td>little</td>\n",
              "      <td>NaN</td>\n",
              "      <td>2096</td>\n",
              "      <td>12</td>\n",
              "      <td>education</td>\n",
              "      <td>0</td>\n",
              "    </tr>\n",
              "    <tr>\n",
              "      <th>3</th>\n",
              "      <td>3</td>\n",
              "      <td>45</td>\n",
              "      <td>male</td>\n",
              "      <td>2</td>\n",
              "      <td>free</td>\n",
              "      <td>little</td>\n",
              "      <td>little</td>\n",
              "      <td>7882</td>\n",
              "      <td>42</td>\n",
              "      <td>furniture/equipment</td>\n",
              "      <td>0</td>\n",
              "    </tr>\n",
              "    <tr>\n",
              "      <th>4</th>\n",
              "      <td>4</td>\n",
              "      <td>53</td>\n",
              "      <td>male</td>\n",
              "      <td>2</td>\n",
              "      <td>free</td>\n",
              "      <td>little</td>\n",
              "      <td>little</td>\n",
              "      <td>4870</td>\n",
              "      <td>24</td>\n",
              "      <td>car</td>\n",
              "      <td>1</td>\n",
              "    </tr>\n",
              "  </tbody>\n",
              "</table>\n",
              "</div>"
            ],
            "text/plain": [
              "   Unnamed: 0  Age     Sex  ...  Duration              Purpose default\n",
              "0           0   67    male  ...         6             radio/TV       0\n",
              "1           1   22  female  ...        48             radio/TV       1\n",
              "2           2   49    male  ...        12            education       0\n",
              "3           3   45    male  ...        42  furniture/equipment       0\n",
              "4           4   53    male  ...        24                  car       1\n",
              "\n",
              "[5 rows x 11 columns]"
            ]
          },
          "metadata": {
            "tags": []
          },
          "execution_count": 4
        }
      ]
    },
    {
      "cell_type": "code",
      "metadata": {
        "id": "MDXET6hzs95B"
      },
      "source": [
        "df.drop('Unnamed: 0',axis=1,inplace=True)"
      ],
      "execution_count": 5,
      "outputs": []
    },
    {
      "cell_type": "code",
      "metadata": {
        "id": "wEfYygzktC1R"
      },
      "source": [
        "df.columns = df.columns.str.lower().str.replace(' ','_')"
      ],
      "execution_count": 6,
      "outputs": []
    },
    {
      "cell_type": "code",
      "metadata": {
        "colab": {
          "base_uri": "https://localhost:8080/"
        },
        "id": "spLfziSQtDhb",
        "outputId": "cd1f6449-bcda-43f1-80fa-266b181d4ace"
      },
      "source": [
        "df.isna().mean()"
      ],
      "execution_count": 7,
      "outputs": [
        {
          "output_type": "execute_result",
          "data": {
            "text/plain": [
              "age                 0.000\n",
              "sex                 0.000\n",
              "job                 0.000\n",
              "housing             0.000\n",
              "saving_accounts     0.183\n",
              "checking_account    0.394\n",
              "credit_amount       0.000\n",
              "duration            0.000\n",
              "purpose             0.000\n",
              "default             0.000\n",
              "dtype: float64"
            ]
          },
          "metadata": {
            "tags": []
          },
          "execution_count": 7
        }
      ]
    },
    {
      "cell_type": "markdown",
      "metadata": {
        "id": "sxHOKIgVtnc3"
      },
      "source": [
        "Сделаю техническую замену пропусков"
      ]
    },
    {
      "cell_type": "code",
      "metadata": {
        "id": "AgU9-tGhtO3u"
      },
      "source": [
        "df['saving_accounts'].fillna('no_info',inplace=True)"
      ],
      "execution_count": 8,
      "outputs": []
    },
    {
      "cell_type": "code",
      "metadata": {
        "id": "wCIz5xNBtgWi"
      },
      "source": [
        "df['checking_account'].fillna('no_info',inplace=True)"
      ],
      "execution_count": 9,
      "outputs": []
    },
    {
      "cell_type": "code",
      "metadata": {
        "colab": {
          "base_uri": "https://localhost:8080/"
        },
        "id": "GZv7zwUZtjz1",
        "outputId": "21b1b2fa-b007-4533-ebfd-ddf52a38839a"
      },
      "source": [
        "df.isna().mean()"
      ],
      "execution_count": 10,
      "outputs": [
        {
          "output_type": "execute_result",
          "data": {
            "text/plain": [
              "age                 0.0\n",
              "sex                 0.0\n",
              "job                 0.0\n",
              "housing             0.0\n",
              "saving_accounts     0.0\n",
              "checking_account    0.0\n",
              "credit_amount       0.0\n",
              "duration            0.0\n",
              "purpose             0.0\n",
              "default             0.0\n",
              "dtype: float64"
            ]
          },
          "metadata": {
            "tags": []
          },
          "execution_count": 10
        }
      ]
    },
    {
      "cell_type": "markdown",
      "metadata": {
        "id": "O-X9CX50tkye"
      },
      "source": [
        "## Анализ"
      ]
    },
    {
      "cell_type": "code",
      "metadata": {
        "colab": {
          "base_uri": "https://localhost:8080/",
          "height": 204
        },
        "id": "eca7MYJ7tyej",
        "outputId": "36a4704e-5971-431b-ae66-4ad7aa053a02"
      },
      "source": [
        "df.head()"
      ],
      "execution_count": 11,
      "outputs": [
        {
          "output_type": "execute_result",
          "data": {
            "text/html": [
              "<div>\n",
              "<style scoped>\n",
              "    .dataframe tbody tr th:only-of-type {\n",
              "        vertical-align: middle;\n",
              "    }\n",
              "\n",
              "    .dataframe tbody tr th {\n",
              "        vertical-align: top;\n",
              "    }\n",
              "\n",
              "    .dataframe thead th {\n",
              "        text-align: right;\n",
              "    }\n",
              "</style>\n",
              "<table border=\"1\" class=\"dataframe\">\n",
              "  <thead>\n",
              "    <tr style=\"text-align: right;\">\n",
              "      <th></th>\n",
              "      <th>age</th>\n",
              "      <th>sex</th>\n",
              "      <th>job</th>\n",
              "      <th>housing</th>\n",
              "      <th>saving_accounts</th>\n",
              "      <th>checking_account</th>\n",
              "      <th>credit_amount</th>\n",
              "      <th>duration</th>\n",
              "      <th>purpose</th>\n",
              "      <th>default</th>\n",
              "    </tr>\n",
              "  </thead>\n",
              "  <tbody>\n",
              "    <tr>\n",
              "      <th>0</th>\n",
              "      <td>67</td>\n",
              "      <td>male</td>\n",
              "      <td>2</td>\n",
              "      <td>own</td>\n",
              "      <td>no_info</td>\n",
              "      <td>little</td>\n",
              "      <td>1169</td>\n",
              "      <td>6</td>\n",
              "      <td>radio/TV</td>\n",
              "      <td>0</td>\n",
              "    </tr>\n",
              "    <tr>\n",
              "      <th>1</th>\n",
              "      <td>22</td>\n",
              "      <td>female</td>\n",
              "      <td>2</td>\n",
              "      <td>own</td>\n",
              "      <td>little</td>\n",
              "      <td>moderate</td>\n",
              "      <td>5951</td>\n",
              "      <td>48</td>\n",
              "      <td>radio/TV</td>\n",
              "      <td>1</td>\n",
              "    </tr>\n",
              "    <tr>\n",
              "      <th>2</th>\n",
              "      <td>49</td>\n",
              "      <td>male</td>\n",
              "      <td>1</td>\n",
              "      <td>own</td>\n",
              "      <td>little</td>\n",
              "      <td>no_info</td>\n",
              "      <td>2096</td>\n",
              "      <td>12</td>\n",
              "      <td>education</td>\n",
              "      <td>0</td>\n",
              "    </tr>\n",
              "    <tr>\n",
              "      <th>3</th>\n",
              "      <td>45</td>\n",
              "      <td>male</td>\n",
              "      <td>2</td>\n",
              "      <td>free</td>\n",
              "      <td>little</td>\n",
              "      <td>little</td>\n",
              "      <td>7882</td>\n",
              "      <td>42</td>\n",
              "      <td>furniture/equipment</td>\n",
              "      <td>0</td>\n",
              "    </tr>\n",
              "    <tr>\n",
              "      <th>4</th>\n",
              "      <td>53</td>\n",
              "      <td>male</td>\n",
              "      <td>2</td>\n",
              "      <td>free</td>\n",
              "      <td>little</td>\n",
              "      <td>little</td>\n",
              "      <td>4870</td>\n",
              "      <td>24</td>\n",
              "      <td>car</td>\n",
              "      <td>1</td>\n",
              "    </tr>\n",
              "  </tbody>\n",
              "</table>\n",
              "</div>"
            ],
            "text/plain": [
              "   age     sex  job  ... duration              purpose default\n",
              "0   67    male    2  ...        6             radio/TV       0\n",
              "1   22  female    2  ...       48             radio/TV       1\n",
              "2   49    male    1  ...       12            education       0\n",
              "3   45    male    2  ...       42  furniture/equipment       0\n",
              "4   53    male    2  ...       24                  car       1\n",
              "\n",
              "[5 rows x 10 columns]"
            ]
          },
          "metadata": {
            "tags": []
          },
          "execution_count": 11
        }
      ]
    },
    {
      "cell_type": "code",
      "metadata": {
        "id": "9p8JiD7KucKH"
      },
      "source": [
        "df['age_group'] = pd.qcut(df['age'],5)"
      ],
      "execution_count": 12,
      "outputs": []
    },
    {
      "cell_type": "code",
      "metadata": {
        "colab": {
          "base_uri": "https://localhost:8080/",
          "height": 235
        },
        "id": "f3A5OKhNtzff",
        "outputId": "dc0c7eaa-0086-4ae2-c5a6-06696d0f3da9"
      },
      "source": [
        "df.groupby('age_group')['default'].agg(['count','mean'])"
      ],
      "execution_count": 13,
      "outputs": [
        {
          "output_type": "execute_result",
          "data": {
            "text/html": [
              "<div>\n",
              "<style scoped>\n",
              "    .dataframe tbody tr th:only-of-type {\n",
              "        vertical-align: middle;\n",
              "    }\n",
              "\n",
              "    .dataframe tbody tr th {\n",
              "        vertical-align: top;\n",
              "    }\n",
              "\n",
              "    .dataframe thead th {\n",
              "        text-align: right;\n",
              "    }\n",
              "</style>\n",
              "<table border=\"1\" class=\"dataframe\">\n",
              "  <thead>\n",
              "    <tr style=\"text-align: right;\">\n",
              "      <th></th>\n",
              "      <th>count</th>\n",
              "      <th>mean</th>\n",
              "    </tr>\n",
              "    <tr>\n",
              "      <th>age_group</th>\n",
              "      <th></th>\n",
              "      <th></th>\n",
              "    </tr>\n",
              "  </thead>\n",
              "  <tbody>\n",
              "    <tr>\n",
              "      <th>(18.999, 26.0]</th>\n",
              "      <td>240</td>\n",
              "      <td>0.391667</td>\n",
              "    </tr>\n",
              "    <tr>\n",
              "      <th>(26.0, 30.0]</th>\n",
              "      <td>171</td>\n",
              "      <td>0.315789</td>\n",
              "    </tr>\n",
              "    <tr>\n",
              "      <th>(30.0, 36.0]</th>\n",
              "      <td>216</td>\n",
              "      <td>0.259259</td>\n",
              "    </tr>\n",
              "    <tr>\n",
              "      <th>(36.0, 45.0]</th>\n",
              "      <td>187</td>\n",
              "      <td>0.262032</td>\n",
              "    </tr>\n",
              "    <tr>\n",
              "      <th>(45.0, 75.0]</th>\n",
              "      <td>186</td>\n",
              "      <td>0.252688</td>\n",
              "    </tr>\n",
              "  </tbody>\n",
              "</table>\n",
              "</div>"
            ],
            "text/plain": [
              "                count      mean\n",
              "age_group                      \n",
              "(18.999, 26.0]    240  0.391667\n",
              "(26.0, 30.0]      171  0.315789\n",
              "(30.0, 36.0]      216  0.259259\n",
              "(36.0, 45.0]      187  0.262032\n",
              "(45.0, 75.0]      186  0.252688"
            ]
          },
          "metadata": {
            "tags": []
          },
          "execution_count": 13
        }
      ]
    },
    {
      "cell_type": "code",
      "metadata": {
        "colab": {
          "base_uri": "https://localhost:8080/",
          "height": 296
        },
        "id": "x8cQLKVquZzc",
        "outputId": "9631c062-fe07-4e37-ca16-5c185ee98072"
      },
      "source": [
        "df.groupby('age_group')['default'].mean().plot(ylim=0,grid=True)"
      ],
      "execution_count": 14,
      "outputs": [
        {
          "output_type": "execute_result",
          "data": {
            "text/plain": [
              "<matplotlib.axes._subplots.AxesSubplot at 0x7fd407857c50>"
            ]
          },
          "metadata": {
            "tags": []
          },
          "execution_count": 14
        },
        {
          "output_type": "display_data",
          "data": {
            "image/png": "[encoded data removed]",
            "text/plain": [
              "<Figure size 432x288 with 1 Axes>"
            ]
          },
          "metadata": {
            "tags": [],
            "needs_background": "light"
          }
        }
      ]
    },
    {
      "cell_type": "markdown",
      "metadata": {
        "id": "41AVkseEuoYB"
      },
      "source": [
        "С увеличением возраста процент дефолтников снижается!"
      ]
    },
    {
      "cell_type": "code",
      "metadata": {
        "colab": {
          "base_uri": "https://localhost:8080/",
          "height": 204
        },
        "id": "rX6fvnmQuz0M",
        "outputId": "c65ebbfc-14b0-418e-c247-dd65b3884a0d"
      },
      "source": [
        "df.head()"
      ],
      "execution_count": 15,
      "outputs": [
        {
          "output_type": "execute_result",
          "data": {
            "text/html": [
              "<div>\n",
              "<style scoped>\n",
              "    .dataframe tbody tr th:only-of-type {\n",
              "        vertical-align: middle;\n",
              "    }\n",
              "\n",
              "    .dataframe tbody tr th {\n",
              "        vertical-align: top;\n",
              "    }\n",
              "\n",
              "    .dataframe thead th {\n",
              "        text-align: right;\n",
              "    }\n",
              "</style>\n",
              "<table border=\"1\" class=\"dataframe\">\n",
              "  <thead>\n",
              "    <tr style=\"text-align: right;\">\n",
              "      <th></th>\n",
              "      <th>age</th>\n",
              "      <th>sex</th>\n",
              "      <th>job</th>\n",
              "      <th>housing</th>\n",
              "      <th>saving_accounts</th>\n",
              "      <th>checking_account</th>\n",
              "      <th>credit_amount</th>\n",
              "      <th>duration</th>\n",
              "      <th>purpose</th>\n",
              "      <th>default</th>\n",
              "      <th>age_group</th>\n",
              "    </tr>\n",
              "  </thead>\n",
              "  <tbody>\n",
              "    <tr>\n",
              "      <th>0</th>\n",
              "      <td>67</td>\n",
              "      <td>male</td>\n",
              "      <td>2</td>\n",
              "      <td>own</td>\n",
              "      <td>no_info</td>\n",
              "      <td>little</td>\n",
              "      <td>1169</td>\n",
              "      <td>6</td>\n",
              "      <td>radio/TV</td>\n",
              "      <td>0</td>\n",
              "      <td>(45.0, 75.0]</td>\n",
              "    </tr>\n",
              "    <tr>\n",
              "      <th>1</th>\n",
              "      <td>22</td>\n",
              "      <td>female</td>\n",
              "      <td>2</td>\n",
              "      <td>own</td>\n",
              "      <td>little</td>\n",
              "      <td>moderate</td>\n",
              "      <td>5951</td>\n",
              "      <td>48</td>\n",
              "      <td>radio/TV</td>\n",
              "      <td>1</td>\n",
              "      <td>(18.999, 26.0]</td>\n",
              "    </tr>\n",
              "    <tr>\n",
              "      <th>2</th>\n",
              "      <td>49</td>\n",
              "      <td>male</td>\n",
              "      <td>1</td>\n",
              "      <td>own</td>\n",
              "      <td>little</td>\n",
              "      <td>no_info</td>\n",
              "      <td>2096</td>\n",
              "      <td>12</td>\n",
              "      <td>education</td>\n",
              "      <td>0</td>\n",
              "      <td>(45.0, 75.0]</td>\n",
              "    </tr>\n",
              "    <tr>\n",
              "      <th>3</th>\n",
              "      <td>45</td>\n",
              "      <td>male</td>\n",
              "      <td>2</td>\n",
              "      <td>free</td>\n",
              "      <td>little</td>\n",
              "      <td>little</td>\n",
              "      <td>7882</td>\n",
              "      <td>42</td>\n",
              "      <td>furniture/equipment</td>\n",
              "      <td>0</td>\n",
              "      <td>(36.0, 45.0]</td>\n",
              "    </tr>\n",
              "    <tr>\n",
              "      <th>4</th>\n",
              "      <td>53</td>\n",
              "      <td>male</td>\n",
              "      <td>2</td>\n",
              "      <td>free</td>\n",
              "      <td>little</td>\n",
              "      <td>little</td>\n",
              "      <td>4870</td>\n",
              "      <td>24</td>\n",
              "      <td>car</td>\n",
              "      <td>1</td>\n",
              "      <td>(45.0, 75.0]</td>\n",
              "    </tr>\n",
              "  </tbody>\n",
              "</table>\n",
              "</div>"
            ],
            "text/plain": [
              "   age     sex  job  ...              purpose default       age_group\n",
              "0   67    male    2  ...             radio/TV       0    (45.0, 75.0]\n",
              "1   22  female    2  ...             radio/TV       1  (18.999, 26.0]\n",
              "2   49    male    1  ...            education       0    (45.0, 75.0]\n",
              "3   45    male    2  ...  furniture/equipment       0    (36.0, 45.0]\n",
              "4   53    male    2  ...                  car       1    (45.0, 75.0]\n",
              "\n",
              "[5 rows x 11 columns]"
            ]
          },
          "metadata": {
            "tags": []
          },
          "execution_count": 15
        }
      ]
    },
    {
      "cell_type": "code",
      "metadata": {
        "colab": {
          "base_uri": "https://localhost:8080/",
          "height": 142
        },
        "id": "YWojAFOHu9Jt",
        "outputId": "a66fb61c-1986-436a-de18-0f62b02eb1d5"
      },
      "source": [
        "df.groupby('sex')['default'].agg(['count','mean'])"
      ],
      "execution_count": 16,
      "outputs": [
        {
          "output_type": "execute_result",
          "data": {
            "text/html": [
              "<div>\n",
              "<style scoped>\n",
              "    .dataframe tbody tr th:only-of-type {\n",
              "        vertical-align: middle;\n",
              "    }\n",
              "\n",
              "    .dataframe tbody tr th {\n",
              "        vertical-align: top;\n",
              "    }\n",
              "\n",
              "    .dataframe thead th {\n",
              "        text-align: right;\n",
              "    }\n",
              "</style>\n",
              "<table border=\"1\" class=\"dataframe\">\n",
              "  <thead>\n",
              "    <tr style=\"text-align: right;\">\n",
              "      <th></th>\n",
              "      <th>count</th>\n",
              "      <th>mean</th>\n",
              "    </tr>\n",
              "    <tr>\n",
              "      <th>sex</th>\n",
              "      <th></th>\n",
              "      <th></th>\n",
              "    </tr>\n",
              "  </thead>\n",
              "  <tbody>\n",
              "    <tr>\n",
              "      <th>female</th>\n",
              "      <td>310</td>\n",
              "      <td>0.351613</td>\n",
              "    </tr>\n",
              "    <tr>\n",
              "      <th>male</th>\n",
              "      <td>690</td>\n",
              "      <td>0.276812</td>\n",
              "    </tr>\n",
              "  </tbody>\n",
              "</table>\n",
              "</div>"
            ],
            "text/plain": [
              "        count      mean\n",
              "sex                    \n",
              "female    310  0.351613\n",
              "male      690  0.276812"
            ]
          },
          "metadata": {
            "tags": []
          },
          "execution_count": 16
        }
      ]
    },
    {
      "cell_type": "markdown",
      "metadata": {
        "id": "x9UA1A8LvhuS"
      },
      "source": [
        "Выборка перекошена -- мужчин в 2 раза больше чем женщин. И среди женщин дефолта сильно больше. Возможно влияние другой переменной? Возраст?"
      ]
    },
    {
      "cell_type": "code",
      "metadata": {
        "colab": {
          "base_uri": "https://localhost:8080/",
          "height": 142
        },
        "id": "6jElLJ8ivAs9",
        "outputId": "86f5ff21-9f01-4fbc-9a68-330eb65c3271"
      },
      "source": [
        "df.groupby('sex')['age'].agg(['count','mean','median'])"
      ],
      "execution_count": 17,
      "outputs": [
        {
          "output_type": "execute_result",
          "data": {
            "text/html": [
              "<div>\n",
              "<style scoped>\n",
              "    .dataframe tbody tr th:only-of-type {\n",
              "        vertical-align: middle;\n",
              "    }\n",
              "\n",
              "    .dataframe tbody tr th {\n",
              "        vertical-align: top;\n",
              "    }\n",
              "\n",
              "    .dataframe thead th {\n",
              "        text-align: right;\n",
              "    }\n",
              "</style>\n",
              "<table border=\"1\" class=\"dataframe\">\n",
              "  <thead>\n",
              "    <tr style=\"text-align: right;\">\n",
              "      <th></th>\n",
              "      <th>count</th>\n",
              "      <th>mean</th>\n",
              "      <th>median</th>\n",
              "    </tr>\n",
              "    <tr>\n",
              "      <th>sex</th>\n",
              "      <th></th>\n",
              "      <th></th>\n",
              "      <th></th>\n",
              "    </tr>\n",
              "  </thead>\n",
              "  <tbody>\n",
              "    <tr>\n",
              "      <th>female</th>\n",
              "      <td>310</td>\n",
              "      <td>32.803226</td>\n",
              "      <td>29</td>\n",
              "    </tr>\n",
              "    <tr>\n",
              "      <th>male</th>\n",
              "      <td>690</td>\n",
              "      <td>36.778261</td>\n",
              "      <td>35</td>\n",
              "    </tr>\n",
              "  </tbody>\n",
              "</table>\n",
              "</div>"
            ],
            "text/plain": [
              "        count       mean  median\n",
              "sex                             \n",
              "female    310  32.803226      29\n",
              "male      690  36.778261      35"
            ]
          },
          "metadata": {
            "tags": []
          },
          "execution_count": 17
        }
      ]
    },
    {
      "cell_type": "markdown",
      "metadata": {
        "id": "-8CuSTZpvOrd"
      },
      "source": [
        "Действительно! Женщины в этой выборке моложе! Посмотрим в разрезе пола и возраста"
      ]
    },
    {
      "cell_type": "code",
      "metadata": {
        "id": "FHdMXr8ev-og"
      },
      "source": [
        "df['age_group2'] = pd.qcut(df['age'],3)"
      ],
      "execution_count": 18,
      "outputs": []
    },
    {
      "cell_type": "code",
      "metadata": {
        "colab": {
          "base_uri": "https://localhost:8080/",
          "height": 266
        },
        "id": "_-7fT48DwJFF",
        "outputId": "2df364d7-7d9d-4117-cf05-076ca945b4ec"
      },
      "source": [
        "df.groupby(['age_group2','sex'])['default'].agg(['count','mean'])"
      ],
      "execution_count": 19,
      "outputs": [
        {
          "output_type": "execute_result",
          "data": {
            "text/html": [
              "<div>\n",
              "<style scoped>\n",
              "    .dataframe tbody tr th:only-of-type {\n",
              "        vertical-align: middle;\n",
              "    }\n",
              "\n",
              "    .dataframe tbody tr th {\n",
              "        vertical-align: top;\n",
              "    }\n",
              "\n",
              "    .dataframe thead th {\n",
              "        text-align: right;\n",
              "    }\n",
              "</style>\n",
              "<table border=\"1\" class=\"dataframe\">\n",
              "  <thead>\n",
              "    <tr style=\"text-align: right;\">\n",
              "      <th></th>\n",
              "      <th></th>\n",
              "      <th>count</th>\n",
              "      <th>mean</th>\n",
              "    </tr>\n",
              "    <tr>\n",
              "      <th>age_group2</th>\n",
              "      <th>sex</th>\n",
              "      <th></th>\n",
              "      <th></th>\n",
              "    </tr>\n",
              "  </thead>\n",
              "  <tbody>\n",
              "    <tr>\n",
              "      <th rowspan=\"2\" valign=\"top\">(18.999, 28.0]</th>\n",
              "      <th>female</th>\n",
              "      <td>154</td>\n",
              "      <td>0.409091</td>\n",
              "    </tr>\n",
              "    <tr>\n",
              "      <th>male</th>\n",
              "      <td>180</td>\n",
              "      <td>0.327778</td>\n",
              "    </tr>\n",
              "    <tr>\n",
              "      <th rowspan=\"2\" valign=\"top\">(28.0, 38.0]</th>\n",
              "      <th>female</th>\n",
              "      <td>83</td>\n",
              "      <td>0.385542</td>\n",
              "    </tr>\n",
              "    <tr>\n",
              "      <th>male</th>\n",
              "      <td>263</td>\n",
              "      <td>0.235741</td>\n",
              "    </tr>\n",
              "    <tr>\n",
              "      <th rowspan=\"2\" valign=\"top\">(38.0, 75.0]</th>\n",
              "      <th>female</th>\n",
              "      <td>73</td>\n",
              "      <td>0.191781</td>\n",
              "    </tr>\n",
              "    <tr>\n",
              "      <th>male</th>\n",
              "      <td>247</td>\n",
              "      <td>0.283401</td>\n",
              "    </tr>\n",
              "  </tbody>\n",
              "</table>\n",
              "</div>"
            ],
            "text/plain": [
              "                       count      mean\n",
              "age_group2     sex                    \n",
              "(18.999, 28.0] female    154  0.409091\n",
              "               male      180  0.327778\n",
              "(28.0, 38.0]   female     83  0.385542\n",
              "               male      263  0.235741\n",
              "(38.0, 75.0]   female     73  0.191781\n",
              "               male      247  0.283401"
            ]
          },
          "metadata": {
            "tags": []
          },
          "execution_count": 19
        }
      ]
    },
    {
      "cell_type": "markdown",
      "metadata": {
        "id": "_1nF8elkwK7L"
      },
      "source": [
        "В молодом и среднем возрасте женщины хуже возвращают долг, а в более старшем наоборот: женщины возвращают долг лучше чем мужчины"
      ]
    },
    {
      "cell_type": "code",
      "metadata": {
        "colab": {
          "base_uri": "https://localhost:8080/",
          "height": 204
        },
        "id": "QLjIodgzwhSY",
        "outputId": "caa7b6ec-f815-412f-b9c5-71cba18b0692"
      },
      "source": [
        "df.head()"
      ],
      "execution_count": 20,
      "outputs": [
        {
          "output_type": "execute_result",
          "data": {
            "text/html": [
              "<div>\n",
              "<style scoped>\n",
              "    .dataframe tbody tr th:only-of-type {\n",
              "        vertical-align: middle;\n",
              "    }\n",
              "\n",
              "    .dataframe tbody tr th {\n",
              "        vertical-align: top;\n",
              "    }\n",
              "\n",
              "    .dataframe thead th {\n",
              "        text-align: right;\n",
              "    }\n",
              "</style>\n",
              "<table border=\"1\" class=\"dataframe\">\n",
              "  <thead>\n",
              "    <tr style=\"text-align: right;\">\n",
              "      <th></th>\n",
              "      <th>age</th>\n",
              "      <th>sex</th>\n",
              "      <th>job</th>\n",
              "      <th>housing</th>\n",
              "      <th>saving_accounts</th>\n",
              "      <th>checking_account</th>\n",
              "      <th>credit_amount</th>\n",
              "      <th>duration</th>\n",
              "      <th>purpose</th>\n",
              "      <th>default</th>\n",
              "      <th>age_group</th>\n",
              "      <th>age_group2</th>\n",
              "    </tr>\n",
              "  </thead>\n",
              "  <tbody>\n",
              "    <tr>\n",
              "      <th>0</th>\n",
              "      <td>67</td>\n",
              "      <td>male</td>\n",
              "      <td>2</td>\n",
              "      <td>own</td>\n",
              "      <td>no_info</td>\n",
              "      <td>little</td>\n",
              "      <td>1169</td>\n",
              "      <td>6</td>\n",
              "      <td>radio/TV</td>\n",
              "      <td>0</td>\n",
              "      <td>(45.0, 75.0]</td>\n",
              "      <td>(38.0, 75.0]</td>\n",
              "    </tr>\n",
              "    <tr>\n",
              "      <th>1</th>\n",
              "      <td>22</td>\n",
              "      <td>female</td>\n",
              "      <td>2</td>\n",
              "      <td>own</td>\n",
              "      <td>little</td>\n",
              "      <td>moderate</td>\n",
              "      <td>5951</td>\n",
              "      <td>48</td>\n",
              "      <td>radio/TV</td>\n",
              "      <td>1</td>\n",
              "      <td>(18.999, 26.0]</td>\n",
              "      <td>(18.999, 28.0]</td>\n",
              "    </tr>\n",
              "    <tr>\n",
              "      <th>2</th>\n",
              "      <td>49</td>\n",
              "      <td>male</td>\n",
              "      <td>1</td>\n",
              "      <td>own</td>\n",
              "      <td>little</td>\n",
              "      <td>no_info</td>\n",
              "      <td>2096</td>\n",
              "      <td>12</td>\n",
              "      <td>education</td>\n",
              "      <td>0</td>\n",
              "      <td>(45.0, 75.0]</td>\n",
              "      <td>(38.0, 75.0]</td>\n",
              "    </tr>\n",
              "    <tr>\n",
              "      <th>3</th>\n",
              "      <td>45</td>\n",
              "      <td>male</td>\n",
              "      <td>2</td>\n",
              "      <td>free</td>\n",
              "      <td>little</td>\n",
              "      <td>little</td>\n",
              "      <td>7882</td>\n",
              "      <td>42</td>\n",
              "      <td>furniture/equipment</td>\n",
              "      <td>0</td>\n",
              "      <td>(36.0, 45.0]</td>\n",
              "      <td>(38.0, 75.0]</td>\n",
              "    </tr>\n",
              "    <tr>\n",
              "      <th>4</th>\n",
              "      <td>53</td>\n",
              "      <td>male</td>\n",
              "      <td>2</td>\n",
              "      <td>free</td>\n",
              "      <td>little</td>\n",
              "      <td>little</td>\n",
              "      <td>4870</td>\n",
              "      <td>24</td>\n",
              "      <td>car</td>\n",
              "      <td>1</td>\n",
              "      <td>(45.0, 75.0]</td>\n",
              "      <td>(38.0, 75.0]</td>\n",
              "    </tr>\n",
              "  </tbody>\n",
              "</table>\n",
              "</div>"
            ],
            "text/plain": [
              "   age     sex  job  ... default       age_group      age_group2\n",
              "0   67    male    2  ...       0    (45.0, 75.0]    (38.0, 75.0]\n",
              "1   22  female    2  ...       1  (18.999, 26.0]  (18.999, 28.0]\n",
              "2   49    male    1  ...       0    (45.0, 75.0]    (38.0, 75.0]\n",
              "3   45    male    2  ...       0    (36.0, 45.0]    (38.0, 75.0]\n",
              "4   53    male    2  ...       1    (45.0, 75.0]    (38.0, 75.0]\n",
              "\n",
              "[5 rows x 12 columns]"
            ]
          },
          "metadata": {
            "tags": []
          },
          "execution_count": 20
        }
      ]
    },
    {
      "cell_type": "markdown",
      "metadata": {
        "id": "qVjiKMNgwzu3"
      },
      "source": [
        "0 - unskilled and non-resident, 1 - unskilled and resident, 2 - skilled, 3 - highly skilled"
      ]
    },
    {
      "cell_type": "code",
      "metadata": {
        "id": "GKfohzQsw1yn"
      },
      "source": [
        "job_dict = {0:\"unskilled and non-resident\",\n",
        "            1:\"unskilled and resident\",\n",
        "            2:\"skilled\",\n",
        "            3: \"highly skilled\"}"
      ],
      "execution_count": 21,
      "outputs": []
    },
    {
      "cell_type": "code",
      "metadata": {
        "colab": {
          "base_uri": "https://localhost:8080/"
        },
        "id": "IoYvZ0wQxAnj",
        "outputId": "004df38d-4bd2-4e7b-b23c-5656d0b720bc"
      },
      "source": [
        "job_dict"
      ],
      "execution_count": 22,
      "outputs": [
        {
          "output_type": "execute_result",
          "data": {
            "text/plain": [
              "{0: 'unskilled and non-resident',\n",
              " 1: 'unskilled and resident',\n",
              " 2: 'skilled',\n",
              " 3: 'highly skilled'}"
            ]
          },
          "metadata": {
            "tags": []
          },
          "execution_count": 22
        }
      ]
    },
    {
      "cell_type": "code",
      "metadata": {
        "id": "3YdYiGj9xCG4"
      },
      "source": [
        "df['job'] = df['job'].map(job_dict)"
      ],
      "execution_count": 23,
      "outputs": []
    },
    {
      "cell_type": "code",
      "metadata": {
        "colab": {
          "base_uri": "https://localhost:8080/",
          "height": 204
        },
        "id": "r0JfrVHMwpcW",
        "outputId": "814cd36d-fc92-442a-9fcb-1ac0f0f9b92b"
      },
      "source": [
        "df.groupby('job')['default'].agg(['count','mean'])"
      ],
      "execution_count": 24,
      "outputs": [
        {
          "output_type": "execute_result",
          "data": {
            "text/html": [
              "<div>\n",
              "<style scoped>\n",
              "    .dataframe tbody tr th:only-of-type {\n",
              "        vertical-align: middle;\n",
              "    }\n",
              "\n",
              "    .dataframe tbody tr th {\n",
              "        vertical-align: top;\n",
              "    }\n",
              "\n",
              "    .dataframe thead th {\n",
              "        text-align: right;\n",
              "    }\n",
              "</style>\n",
              "<table border=\"1\" class=\"dataframe\">\n",
              "  <thead>\n",
              "    <tr style=\"text-align: right;\">\n",
              "      <th></th>\n",
              "      <th>count</th>\n",
              "      <th>mean</th>\n",
              "    </tr>\n",
              "    <tr>\n",
              "      <th>job</th>\n",
              "      <th></th>\n",
              "      <th></th>\n",
              "    </tr>\n",
              "  </thead>\n",
              "  <tbody>\n",
              "    <tr>\n",
              "      <th>highly skilled</th>\n",
              "      <td>148</td>\n",
              "      <td>0.344595</td>\n",
              "    </tr>\n",
              "    <tr>\n",
              "      <th>skilled</th>\n",
              "      <td>630</td>\n",
              "      <td>0.295238</td>\n",
              "    </tr>\n",
              "    <tr>\n",
              "      <th>unskilled and non-resident</th>\n",
              "      <td>22</td>\n",
              "      <td>0.318182</td>\n",
              "    </tr>\n",
              "    <tr>\n",
              "      <th>unskilled and resident</th>\n",
              "      <td>200</td>\n",
              "      <td>0.280000</td>\n",
              "    </tr>\n",
              "  </tbody>\n",
              "</table>\n",
              "</div>"
            ],
            "text/plain": [
              "                            count      mean\n",
              "job                                        \n",
              "highly skilled                148  0.344595\n",
              "skilled                       630  0.295238\n",
              "unskilled and non-resident     22  0.318182\n",
              "unskilled and resident        200  0.280000"
            ]
          },
          "metadata": {
            "tags": []
          },
          "execution_count": 24
        }
      ]
    },
    {
      "cell_type": "markdown",
      "metadata": {
        "id": "eJGnlLv2xWjU"
      },
      "source": [
        "Странно, что в skilled самый высокий дефолт. Возможно влияние другой перменной"
      ]
    },
    {
      "cell_type": "code",
      "metadata": {
        "colab": {
          "base_uri": "https://localhost:8080/",
          "height": 452
        },
        "id": "-0n9_6TBxV4V",
        "outputId": "5f00f509-b1cd-481b-d93b-54901967c264"
      },
      "source": [
        "df.groupby(['job','age_group2'])['default'].agg(['count','mean'])"
      ],
      "execution_count": 25,
      "outputs": [
        {
          "output_type": "execute_result",
          "data": {
            "text/html": [
              "<div>\n",
              "<style scoped>\n",
              "    .dataframe tbody tr th:only-of-type {\n",
              "        vertical-align: middle;\n",
              "    }\n",
              "\n",
              "    .dataframe tbody tr th {\n",
              "        vertical-align: top;\n",
              "    }\n",
              "\n",
              "    .dataframe thead th {\n",
              "        text-align: right;\n",
              "    }\n",
              "</style>\n",
              "<table border=\"1\" class=\"dataframe\">\n",
              "  <thead>\n",
              "    <tr style=\"text-align: right;\">\n",
              "      <th></th>\n",
              "      <th></th>\n",
              "      <th>count</th>\n",
              "      <th>mean</th>\n",
              "    </tr>\n",
              "    <tr>\n",
              "      <th>job</th>\n",
              "      <th>age_group2</th>\n",
              "      <th></th>\n",
              "      <th></th>\n",
              "    </tr>\n",
              "  </thead>\n",
              "  <tbody>\n",
              "    <tr>\n",
              "      <th rowspan=\"3\" valign=\"top\">highly skilled</th>\n",
              "      <th>(18.999, 28.0]</th>\n",
              "      <td>21</td>\n",
              "      <td>0.523810</td>\n",
              "    </tr>\n",
              "    <tr>\n",
              "      <th>(28.0, 38.0]</th>\n",
              "      <td>68</td>\n",
              "      <td>0.220588</td>\n",
              "    </tr>\n",
              "    <tr>\n",
              "      <th>(38.0, 75.0]</th>\n",
              "      <td>59</td>\n",
              "      <td>0.423729</td>\n",
              "    </tr>\n",
              "    <tr>\n",
              "      <th rowspan=\"3\" valign=\"top\">skilled</th>\n",
              "      <th>(18.999, 28.0]</th>\n",
              "      <td>240</td>\n",
              "      <td>0.350000</td>\n",
              "    </tr>\n",
              "    <tr>\n",
              "      <th>(28.0, 38.0]</th>\n",
              "      <td>220</td>\n",
              "      <td>0.268182</td>\n",
              "    </tr>\n",
              "    <tr>\n",
              "      <th>(38.0, 75.0]</th>\n",
              "      <td>170</td>\n",
              "      <td>0.252941</td>\n",
              "    </tr>\n",
              "    <tr>\n",
              "      <th rowspan=\"3\" valign=\"top\">unskilled and non-resident</th>\n",
              "      <th>(18.999, 28.0]</th>\n",
              "      <td>9</td>\n",
              "      <td>0.555556</td>\n",
              "    </tr>\n",
              "    <tr>\n",
              "      <th>(28.0, 38.0]</th>\n",
              "      <td>4</td>\n",
              "      <td>0.250000</td>\n",
              "    </tr>\n",
              "    <tr>\n",
              "      <th>(38.0, 75.0]</th>\n",
              "      <td>9</td>\n",
              "      <td>0.111111</td>\n",
              "    </tr>\n",
              "    <tr>\n",
              "      <th rowspan=\"3\" valign=\"top\">unskilled and resident</th>\n",
              "      <th>(18.999, 28.0]</th>\n",
              "      <td>64</td>\n",
              "      <td>0.343750</td>\n",
              "    </tr>\n",
              "    <tr>\n",
              "      <th>(28.0, 38.0]</th>\n",
              "      <td>54</td>\n",
              "      <td>0.351852</td>\n",
              "    </tr>\n",
              "    <tr>\n",
              "      <th>(38.0, 75.0]</th>\n",
              "      <td>82</td>\n",
              "      <td>0.182927</td>\n",
              "    </tr>\n",
              "  </tbody>\n",
              "</table>\n",
              "</div>"
            ],
            "text/plain": [
              "                                           count      mean\n",
              "job                        age_group2                     \n",
              "highly skilled             (18.999, 28.0]     21  0.523810\n",
              "                           (28.0, 38.0]       68  0.220588\n",
              "                           (38.0, 75.0]       59  0.423729\n",
              "skilled                    (18.999, 28.0]    240  0.350000\n",
              "                           (28.0, 38.0]      220  0.268182\n",
              "                           (38.0, 75.0]      170  0.252941\n",
              "unskilled and non-resident (18.999, 28.0]      9  0.555556\n",
              "                           (28.0, 38.0]        4  0.250000\n",
              "                           (38.0, 75.0]        9  0.111111\n",
              "unskilled and resident     (18.999, 28.0]     64  0.343750\n",
              "                           (28.0, 38.0]       54  0.351852\n",
              "                           (38.0, 75.0]       82  0.182927"
            ]
          },
          "metadata": {
            "tags": []
          },
          "execution_count": 25
        }
      ]
    },
    {
      "cell_type": "markdown",
      "metadata": {
        "id": "tCYYsngdywCD"
      },
      "source": [
        "В skilled много молодых и это влияет на уровень дефолта"
      ]
    },
    {
      "cell_type": "code",
      "metadata": {
        "colab": {
          "base_uri": "https://localhost:8080/",
          "height": 204
        },
        "id": "Oi8kJkacxVu_",
        "outputId": "446084e9-d5e3-46ed-9aa8-1e0f3474c353"
      },
      "source": [
        "df.groupby('job')['credit_amount'].agg(['count','mean','median'])"
      ],
      "execution_count": 26,
      "outputs": [
        {
          "output_type": "execute_result",
          "data": {
            "text/html": [
              "<div>\n",
              "<style scoped>\n",
              "    .dataframe tbody tr th:only-of-type {\n",
              "        vertical-align: middle;\n",
              "    }\n",
              "\n",
              "    .dataframe tbody tr th {\n",
              "        vertical-align: top;\n",
              "    }\n",
              "\n",
              "    .dataframe thead th {\n",
              "        text-align: right;\n",
              "    }\n",
              "</style>\n",
              "<table border=\"1\" class=\"dataframe\">\n",
              "  <thead>\n",
              "    <tr style=\"text-align: right;\">\n",
              "      <th></th>\n",
              "      <th>count</th>\n",
              "      <th>mean</th>\n",
              "      <th>median</th>\n",
              "    </tr>\n",
              "    <tr>\n",
              "      <th>job</th>\n",
              "      <th></th>\n",
              "      <th></th>\n",
              "      <th></th>\n",
              "    </tr>\n",
              "  </thead>\n",
              "  <tbody>\n",
              "    <tr>\n",
              "      <th>highly skilled</th>\n",
              "      <td>148</td>\n",
              "      <td>5435.493243</td>\n",
              "      <td>4459</td>\n",
              "    </tr>\n",
              "    <tr>\n",
              "      <th>skilled</th>\n",
              "      <td>630</td>\n",
              "      <td>3070.965079</td>\n",
              "      <td>2324</td>\n",
              "    </tr>\n",
              "    <tr>\n",
              "      <th>unskilled and non-resident</th>\n",
              "      <td>22</td>\n",
              "      <td>2745.136364</td>\n",
              "      <td>1416</td>\n",
              "    </tr>\n",
              "    <tr>\n",
              "      <th>unskilled and resident</th>\n",
              "      <td>200</td>\n",
              "      <td>2358.520000</td>\n",
              "      <td>1622</td>\n",
              "    </tr>\n",
              "  </tbody>\n",
              "</table>\n",
              "</div>"
            ],
            "text/plain": [
              "                            count         mean  median\n",
              "job                                                   \n",
              "highly skilled                148  5435.493243    4459\n",
              "skilled                       630  3070.965079    2324\n",
              "unskilled and non-resident     22  2745.136364    1416\n",
              "unskilled and resident        200  2358.520000    1622"
            ]
          },
          "metadata": {
            "tags": []
          },
          "execution_count": 26
        }
      ]
    },
    {
      "cell_type": "markdown",
      "metadata": {
        "id": "yGs1-GuSy2Xm"
      },
      "source": [
        "Но похоже, что главное влияние оказывает размер кредита! В hs и s размер кредита выше чем в unskilled. Посмотрим на влияние размера кредита на дефолт вообще"
      ]
    },
    {
      "cell_type": "code",
      "metadata": {
        "id": "TfMuQhSUyB8z"
      },
      "source": [
        "df['credit_amount_group'] = pd.qcut(df['credit_amount'],5)"
      ],
      "execution_count": 27,
      "outputs": []
    },
    {
      "cell_type": "code",
      "metadata": {
        "colab": {
          "base_uri": "https://localhost:8080/",
          "height": 235
        },
        "id": "EYZspWkaySRA",
        "outputId": "a5922915-15b0-443d-ee17-85524268c98e"
      },
      "source": [
        "df.groupby('credit_amount_group')['default'].agg(['count','mean'])"
      ],
      "execution_count": 28,
      "outputs": [
        {
          "output_type": "execute_result",
          "data": {
            "text/html": [
              "<div>\n",
              "<style scoped>\n",
              "    .dataframe tbody tr th:only-of-type {\n",
              "        vertical-align: middle;\n",
              "    }\n",
              "\n",
              "    .dataframe tbody tr th {\n",
              "        vertical-align: top;\n",
              "    }\n",
              "\n",
              "    .dataframe thead th {\n",
              "        text-align: right;\n",
              "    }\n",
              "</style>\n",
              "<table border=\"1\" class=\"dataframe\">\n",
              "  <thead>\n",
              "    <tr style=\"text-align: right;\">\n",
              "      <th></th>\n",
              "      <th>count</th>\n",
              "      <th>mean</th>\n",
              "    </tr>\n",
              "    <tr>\n",
              "      <th>credit_amount_group</th>\n",
              "      <th></th>\n",
              "      <th></th>\n",
              "    </tr>\n",
              "  </thead>\n",
              "  <tbody>\n",
              "    <tr>\n",
              "      <th>(249.999, 1262.0]</th>\n",
              "      <td>201</td>\n",
              "      <td>0.303483</td>\n",
              "    </tr>\n",
              "    <tr>\n",
              "      <th>(1262.0, 1906.8]</th>\n",
              "      <td>199</td>\n",
              "      <td>0.241206</td>\n",
              "    </tr>\n",
              "    <tr>\n",
              "      <th>(1906.8, 2852.4]</th>\n",
              "      <td>200</td>\n",
              "      <td>0.270000</td>\n",
              "    </tr>\n",
              "    <tr>\n",
              "      <th>(2852.4, 4720.0]</th>\n",
              "      <td>200</td>\n",
              "      <td>0.260000</td>\n",
              "    </tr>\n",
              "    <tr>\n",
              "      <th>(4720.0, 18424.0]</th>\n",
              "      <td>200</td>\n",
              "      <td>0.425000</td>\n",
              "    </tr>\n",
              "  </tbody>\n",
              "</table>\n",
              "</div>"
            ],
            "text/plain": [
              "                     count      mean\n",
              "credit_amount_group                 \n",
              "(249.999, 1262.0]      201  0.303483\n",
              "(1262.0, 1906.8]       199  0.241206\n",
              "(1906.8, 2852.4]       200  0.270000\n",
              "(2852.4, 4720.0]       200  0.260000\n",
              "(4720.0, 18424.0]      200  0.425000"
            ]
          },
          "metadata": {
            "tags": []
          },
          "execution_count": 28
        }
      ]
    },
    {
      "cell_type": "markdown",
      "metadata": {
        "id": "CjR4t5fAyegj"
      },
      "source": [
        "Да, чем больше кредит, тем выше дефолт рейт."
      ]
    },
    {
      "cell_type": "code",
      "metadata": {
        "colab": {
          "base_uri": "https://localhost:8080/",
          "height": 204
        },
        "id": "ovdHzxQHzP0q",
        "outputId": "4640af58-36d6-4e58-9568-5a9f6f258336"
      },
      "source": [
        "df.head()"
      ],
      "execution_count": 29,
      "outputs": [
        {
          "output_type": "execute_result",
          "data": {
            "text/html": [
              "<div>\n",
              "<style scoped>\n",
              "    .dataframe tbody tr th:only-of-type {\n",
              "        vertical-align: middle;\n",
              "    }\n",
              "\n",
              "    .dataframe tbody tr th {\n",
              "        vertical-align: top;\n",
              "    }\n",
              "\n",
              "    .dataframe thead th {\n",
              "        text-align: right;\n",
              "    }\n",
              "</style>\n",
              "<table border=\"1\" class=\"dataframe\">\n",
              "  <thead>\n",
              "    <tr style=\"text-align: right;\">\n",
              "      <th></th>\n",
              "      <th>age</th>\n",
              "      <th>sex</th>\n",
              "      <th>job</th>\n",
              "      <th>housing</th>\n",
              "      <th>saving_accounts</th>\n",
              "      <th>checking_account</th>\n",
              "      <th>credit_amount</th>\n",
              "      <th>duration</th>\n",
              "      <th>purpose</th>\n",
              "      <th>default</th>\n",
              "      <th>age_group</th>\n",
              "      <th>age_group2</th>\n",
              "      <th>credit_amount_group</th>\n",
              "    </tr>\n",
              "  </thead>\n",
              "  <tbody>\n",
              "    <tr>\n",
              "      <th>0</th>\n",
              "      <td>67</td>\n",
              "      <td>male</td>\n",
              "      <td>skilled</td>\n",
              "      <td>own</td>\n",
              "      <td>no_info</td>\n",
              "      <td>little</td>\n",
              "      <td>1169</td>\n",
              "      <td>6</td>\n",
              "      <td>radio/TV</td>\n",
              "      <td>0</td>\n",
              "      <td>(45.0, 75.0]</td>\n",
              "      <td>(38.0, 75.0]</td>\n",
              "      <td>(249.999, 1262.0]</td>\n",
              "    </tr>\n",
              "    <tr>\n",
              "      <th>1</th>\n",
              "      <td>22</td>\n",
              "      <td>female</td>\n",
              "      <td>skilled</td>\n",
              "      <td>own</td>\n",
              "      <td>little</td>\n",
              "      <td>moderate</td>\n",
              "      <td>5951</td>\n",
              "      <td>48</td>\n",
              "      <td>radio/TV</td>\n",
              "      <td>1</td>\n",
              "      <td>(18.999, 26.0]</td>\n",
              "      <td>(18.999, 28.0]</td>\n",
              "      <td>(4720.0, 18424.0]</td>\n",
              "    </tr>\n",
              "    <tr>\n",
              "      <th>2</th>\n",
              "      <td>49</td>\n",
              "      <td>male</td>\n",
              "      <td>unskilled and resident</td>\n",
              "      <td>own</td>\n",
              "      <td>little</td>\n",
              "      <td>no_info</td>\n",
              "      <td>2096</td>\n",
              "      <td>12</td>\n",
              "      <td>education</td>\n",
              "      <td>0</td>\n",
              "      <td>(45.0, 75.0]</td>\n",
              "      <td>(38.0, 75.0]</td>\n",
              "      <td>(1906.8, 2852.4]</td>\n",
              "    </tr>\n",
              "    <tr>\n",
              "      <th>3</th>\n",
              "      <td>45</td>\n",
              "      <td>male</td>\n",
              "      <td>skilled</td>\n",
              "      <td>free</td>\n",
              "      <td>little</td>\n",
              "      <td>little</td>\n",
              "      <td>7882</td>\n",
              "      <td>42</td>\n",
              "      <td>furniture/equipment</td>\n",
              "      <td>0</td>\n",
              "      <td>(36.0, 45.0]</td>\n",
              "      <td>(38.0, 75.0]</td>\n",
              "      <td>(4720.0, 18424.0]</td>\n",
              "    </tr>\n",
              "    <tr>\n",
              "      <th>4</th>\n",
              "      <td>53</td>\n",
              "      <td>male</td>\n",
              "      <td>skilled</td>\n",
              "      <td>free</td>\n",
              "      <td>little</td>\n",
              "      <td>little</td>\n",
              "      <td>4870</td>\n",
              "      <td>24</td>\n",
              "      <td>car</td>\n",
              "      <td>1</td>\n",
              "      <td>(45.0, 75.0]</td>\n",
              "      <td>(38.0, 75.0]</td>\n",
              "      <td>(4720.0, 18424.0]</td>\n",
              "    </tr>\n",
              "  </tbody>\n",
              "</table>\n",
              "</div>"
            ],
            "text/plain": [
              "   age     sex  ...      age_group2 credit_amount_group\n",
              "0   67    male  ...    (38.0, 75.0]   (249.999, 1262.0]\n",
              "1   22  female  ...  (18.999, 28.0]   (4720.0, 18424.0]\n",
              "2   49    male  ...    (38.0, 75.0]    (1906.8, 2852.4]\n",
              "3   45    male  ...    (38.0, 75.0]   (4720.0, 18424.0]\n",
              "4   53    male  ...    (38.0, 75.0]   (4720.0, 18424.0]\n",
              "\n",
              "[5 rows x 13 columns]"
            ]
          },
          "metadata": {
            "tags": []
          },
          "execution_count": 29
        }
      ]
    },
    {
      "cell_type": "code",
      "metadata": {
        "colab": {
          "base_uri": "https://localhost:8080/",
          "height": 173
        },
        "id": "hagnw5zlzXTv",
        "outputId": "4731bdb1-b421-40f2-fa61-d5690be3cefe"
      },
      "source": [
        "df.groupby('housing')['default'].agg(['count','mean'])"
      ],
      "execution_count": 30,
      "outputs": [
        {
          "output_type": "execute_result",
          "data": {
            "text/html": [
              "<div>\n",
              "<style scoped>\n",
              "    .dataframe tbody tr th:only-of-type {\n",
              "        vertical-align: middle;\n",
              "    }\n",
              "\n",
              "    .dataframe tbody tr th {\n",
              "        vertical-align: top;\n",
              "    }\n",
              "\n",
              "    .dataframe thead th {\n",
              "        text-align: right;\n",
              "    }\n",
              "</style>\n",
              "<table border=\"1\" class=\"dataframe\">\n",
              "  <thead>\n",
              "    <tr style=\"text-align: right;\">\n",
              "      <th></th>\n",
              "      <th>count</th>\n",
              "      <th>mean</th>\n",
              "    </tr>\n",
              "    <tr>\n",
              "      <th>housing</th>\n",
              "      <th></th>\n",
              "      <th></th>\n",
              "    </tr>\n",
              "  </thead>\n",
              "  <tbody>\n",
              "    <tr>\n",
              "      <th>free</th>\n",
              "      <td>108</td>\n",
              "      <td>0.407407</td>\n",
              "    </tr>\n",
              "    <tr>\n",
              "      <th>own</th>\n",
              "      <td>713</td>\n",
              "      <td>0.260870</td>\n",
              "    </tr>\n",
              "    <tr>\n",
              "      <th>rent</th>\n",
              "      <td>179</td>\n",
              "      <td>0.391061</td>\n",
              "    </tr>\n",
              "  </tbody>\n",
              "</table>\n",
              "</div>"
            ],
            "text/plain": [
              "         count      mean\n",
              "housing                 \n",
              "free       108  0.407407\n",
              "own        713  0.260870\n",
              "rent       179  0.391061"
            ]
          },
          "metadata": {
            "tags": []
          },
          "execution_count": 30
        }
      ]
    },
    {
      "cell_type": "markdown",
      "metadata": {
        "id": "XrByooAkzbjj"
      },
      "source": [
        "Если дом в собственности, то дефолт гораздо ниже."
      ]
    },
    {
      "cell_type": "code",
      "metadata": {
        "colab": {
          "base_uri": "https://localhost:8080/",
          "height": 204
        },
        "id": "5N1GmrXczmwE",
        "outputId": "d9daadb3-4572-4b9f-b2ca-9d39c43bad9f"
      },
      "source": [
        "df.head()"
      ],
      "execution_count": 31,
      "outputs": [
        {
          "output_type": "execute_result",
          "data": {
            "text/html": [
              "<div>\n",
              "<style scoped>\n",
              "    .dataframe tbody tr th:only-of-type {\n",
              "        vertical-align: middle;\n",
              "    }\n",
              "\n",
              "    .dataframe tbody tr th {\n",
              "        vertical-align: top;\n",
              "    }\n",
              "\n",
              "    .dataframe thead th {\n",
              "        text-align: right;\n",
              "    }\n",
              "</style>\n",
              "<table border=\"1\" class=\"dataframe\">\n",
              "  <thead>\n",
              "    <tr style=\"text-align: right;\">\n",
              "      <th></th>\n",
              "      <th>age</th>\n",
              "      <th>sex</th>\n",
              "      <th>job</th>\n",
              "      <th>housing</th>\n",
              "      <th>saving_accounts</th>\n",
              "      <th>checking_account</th>\n",
              "      <th>credit_amount</th>\n",
              "      <th>duration</th>\n",
              "      <th>purpose</th>\n",
              "      <th>default</th>\n",
              "      <th>age_group</th>\n",
              "      <th>age_group2</th>\n",
              "      <th>credit_amount_group</th>\n",
              "    </tr>\n",
              "  </thead>\n",
              "  <tbody>\n",
              "    <tr>\n",
              "      <th>0</th>\n",
              "      <td>67</td>\n",
              "      <td>male</td>\n",
              "      <td>skilled</td>\n",
              "      <td>own</td>\n",
              "      <td>no_info</td>\n",
              "      <td>little</td>\n",
              "      <td>1169</td>\n",
              "      <td>6</td>\n",
              "      <td>radio/TV</td>\n",
              "      <td>0</td>\n",
              "      <td>(45.0, 75.0]</td>\n",
              "      <td>(38.0, 75.0]</td>\n",
              "      <td>(249.999, 1262.0]</td>\n",
              "    </tr>\n",
              "    <tr>\n",
              "      <th>1</th>\n",
              "      <td>22</td>\n",
              "      <td>female</td>\n",
              "      <td>skilled</td>\n",
              "      <td>own</td>\n",
              "      <td>little</td>\n",
              "      <td>moderate</td>\n",
              "      <td>5951</td>\n",
              "      <td>48</td>\n",
              "      <td>radio/TV</td>\n",
              "      <td>1</td>\n",
              "      <td>(18.999, 26.0]</td>\n",
              "      <td>(18.999, 28.0]</td>\n",
              "      <td>(4720.0, 18424.0]</td>\n",
              "    </tr>\n",
              "    <tr>\n",
              "      <th>2</th>\n",
              "      <td>49</td>\n",
              "      <td>male</td>\n",
              "      <td>unskilled and resident</td>\n",
              "      <td>own</td>\n",
              "      <td>little</td>\n",
              "      <td>no_info</td>\n",
              "      <td>2096</td>\n",
              "      <td>12</td>\n",
              "      <td>education</td>\n",
              "      <td>0</td>\n",
              "      <td>(45.0, 75.0]</td>\n",
              "      <td>(38.0, 75.0]</td>\n",
              "      <td>(1906.8, 2852.4]</td>\n",
              "    </tr>\n",
              "    <tr>\n",
              "      <th>3</th>\n",
              "      <td>45</td>\n",
              "      <td>male</td>\n",
              "      <td>skilled</td>\n",
              "      <td>free</td>\n",
              "      <td>little</td>\n",
              "      <td>little</td>\n",
              "      <td>7882</td>\n",
              "      <td>42</td>\n",
              "      <td>furniture/equipment</td>\n",
              "      <td>0</td>\n",
              "      <td>(36.0, 45.0]</td>\n",
              "      <td>(38.0, 75.0]</td>\n",
              "      <td>(4720.0, 18424.0]</td>\n",
              "    </tr>\n",
              "    <tr>\n",
              "      <th>4</th>\n",
              "      <td>53</td>\n",
              "      <td>male</td>\n",
              "      <td>skilled</td>\n",
              "      <td>free</td>\n",
              "      <td>little</td>\n",
              "      <td>little</td>\n",
              "      <td>4870</td>\n",
              "      <td>24</td>\n",
              "      <td>car</td>\n",
              "      <td>1</td>\n",
              "      <td>(45.0, 75.0]</td>\n",
              "      <td>(38.0, 75.0]</td>\n",
              "      <td>(4720.0, 18424.0]</td>\n",
              "    </tr>\n",
              "  </tbody>\n",
              "</table>\n",
              "</div>"
            ],
            "text/plain": [
              "   age     sex  ...      age_group2 credit_amount_group\n",
              "0   67    male  ...    (38.0, 75.0]   (249.999, 1262.0]\n",
              "1   22  female  ...  (18.999, 28.0]   (4720.0, 18424.0]\n",
              "2   49    male  ...    (38.0, 75.0]    (1906.8, 2852.4]\n",
              "3   45    male  ...    (38.0, 75.0]   (4720.0, 18424.0]\n",
              "4   53    male  ...    (38.0, 75.0]   (4720.0, 18424.0]\n",
              "\n",
              "[5 rows x 13 columns]"
            ]
          },
          "metadata": {
            "tags": []
          },
          "execution_count": 31
        }
      ]
    }
  ]
}