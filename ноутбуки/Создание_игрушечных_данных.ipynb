{
  "nbformat": 4,
  "nbformat_minor": 0,
  "metadata": {
    "colab": {
      "name": "Создание игрушечных данных",
      "provenance": [],
      "collapsed_sections": []
    },
    "kernelspec": {
      "name": "python3",
      "display_name": "Python 3"
    },
    "language_info": {
      "name": "python"
    }
  },
  "cells": [
    {
      "cell_type": "code",
      "metadata": {
        "id": "qNouLLZVI4VI"
      },
      "source": [
        "import pandas as pd"
      ],
      "execution_count": 1,
      "outputs": []
    },
    {
      "cell_type": "markdown",
      "metadata": {
        "id": "lOfTNQd5JxgW"
      },
      "source": [
        "## Создадим дата-фрейм"
      ]
    },
    {
      "cell_type": "code",
      "metadata": {
        "id": "eg99XxXiJFDc"
      },
      "source": [
        "df = pd.DataFrame({'user_id':[1, 2, 3, 4, 5],\n",
        "                   'user_name':['a', 'b', 'c', 'd', 'f']})"
      ],
      "execution_count": 2,
      "outputs": []
    },
    {
      "cell_type": "code",
      "metadata": {
        "colab": {
          "base_uri": "https://localhost:8080/",
          "height": 204
        },
        "id": "LXJHHzeAKMvj",
        "outputId": "1146da0e-43e1-49d4-b6fb-3a981623346b"
      },
      "source": [
        "df"
      ],
      "execution_count": 3,
      "outputs": [
        {
          "output_type": "execute_result",
          "data": {
            "text/html": [
              "<div>\n",
              "<style scoped>\n",
              "    .dataframe tbody tr th:only-of-type {\n",
              "        vertical-align: middle;\n",
              "    }\n",
              "\n",
              "    .dataframe tbody tr th {\n",
              "        vertical-align: top;\n",
              "    }\n",
              "\n",
              "    .dataframe thead th {\n",
              "        text-align: right;\n",
              "    }\n",
              "</style>\n",
              "<table border=\"1\" class=\"dataframe\">\n",
              "  <thead>\n",
              "    <tr style=\"text-align: right;\">\n",
              "      <th></th>\n",
              "      <th>user_id</th>\n",
              "      <th>user_name</th>\n",
              "    </tr>\n",
              "  </thead>\n",
              "  <tbody>\n",
              "    <tr>\n",
              "      <th>0</th>\n",
              "      <td>1</td>\n",
              "      <td>a</td>\n",
              "    </tr>\n",
              "    <tr>\n",
              "      <th>1</th>\n",
              "      <td>2</td>\n",
              "      <td>b</td>\n",
              "    </tr>\n",
              "    <tr>\n",
              "      <th>2</th>\n",
              "      <td>3</td>\n",
              "      <td>c</td>\n",
              "    </tr>\n",
              "    <tr>\n",
              "      <th>3</th>\n",
              "      <td>4</td>\n",
              "      <td>d</td>\n",
              "    </tr>\n",
              "    <tr>\n",
              "      <th>4</th>\n",
              "      <td>5</td>\n",
              "      <td>f</td>\n",
              "    </tr>\n",
              "  </tbody>\n",
              "</table>\n",
              "</div>"
            ],
            "text/plain": [
              "   user_id user_name\n",
              "0        1         a\n",
              "1        2         b\n",
              "2        3         c\n",
              "3        4         d\n",
              "4        5         f"
            ]
          },
          "metadata": {
            "tags": []
          },
          "execution_count": 3
        }
      ]
    },
    {
      "cell_type": "markdown",
      "metadata": {
        "id": "KB2I9F0iKPGh"
      },
      "source": [
        "## Загрузка sqlite3"
      ]
    },
    {
      "cell_type": "code",
      "metadata": {
        "id": "i2MB7bkGKSu-"
      },
      "source": [
        "import sqlite3"
      ],
      "execution_count": 4,
      "outputs": []
    },
    {
      "cell_type": "code",
      "metadata": {
        "id": "XuLOtf-1Kaq3"
      },
      "source": [
        "# создаем конектор\n",
        "con = sqlite3.connect('db')"
      ],
      "execution_count": 5,
      "outputs": []
    },
    {
      "cell_type": "code",
      "metadata": {
        "id": "Ulu7HsLeKxQF"
      },
      "source": [
        "# создадим табличку\n",
        "df.to_sql('users', con, index=False, if_exists='replace')"
      ],
      "execution_count": 6,
      "outputs": []
    },
    {
      "cell_type": "code",
      "metadata": {
        "id": "Lc1by5gqLGqG"
      },
      "source": [
        "sql = '''select * from users t'''"
      ],
      "execution_count": 7,
      "outputs": []
    },
    {
      "cell_type": "code",
      "metadata": {
        "colab": {
          "base_uri": "https://localhost:8080/",
          "height": 204
        },
        "id": "ku0lRgFULOUv",
        "outputId": "04e134e3-dab2-45ad-967d-d2c1b3096afe"
      },
      "source": [
        "pd.read_sql(sql, con)"
      ],
      "execution_count": 8,
      "outputs": [
        {
          "output_type": "execute_result",
          "data": {
            "text/html": [
              "<div>\n",
              "<style scoped>\n",
              "    .dataframe tbody tr th:only-of-type {\n",
              "        vertical-align: middle;\n",
              "    }\n",
              "\n",
              "    .dataframe tbody tr th {\n",
              "        vertical-align: top;\n",
              "    }\n",
              "\n",
              "    .dataframe thead th {\n",
              "        text-align: right;\n",
              "    }\n",
              "</style>\n",
              "<table border=\"1\" class=\"dataframe\">\n",
              "  <thead>\n",
              "    <tr style=\"text-align: right;\">\n",
              "      <th></th>\n",
              "      <th>user_id</th>\n",
              "      <th>user_name</th>\n",
              "    </tr>\n",
              "  </thead>\n",
              "  <tbody>\n",
              "    <tr>\n",
              "      <th>0</th>\n",
              "      <td>1</td>\n",
              "      <td>a</td>\n",
              "    </tr>\n",
              "    <tr>\n",
              "      <th>1</th>\n",
              "      <td>2</td>\n",
              "      <td>b</td>\n",
              "    </tr>\n",
              "    <tr>\n",
              "      <th>2</th>\n",
              "      <td>3</td>\n",
              "      <td>c</td>\n",
              "    </tr>\n",
              "    <tr>\n",
              "      <th>3</th>\n",
              "      <td>4</td>\n",
              "      <td>d</td>\n",
              "    </tr>\n",
              "    <tr>\n",
              "      <th>4</th>\n",
              "      <td>5</td>\n",
              "      <td>f</td>\n",
              "    </tr>\n",
              "  </tbody>\n",
              "</table>\n",
              "</div>"
            ],
            "text/plain": [
              "   user_id user_name\n",
              "0        1         a\n",
              "1        2         b\n",
              "2        3         c\n",
              "3        4         d\n",
              "4        5         f"
            ]
          },
          "metadata": {
            "tags": []
          },
          "execution_count": 8
        }
      ]
    },
    {
      "cell_type": "markdown",
      "metadata": {
        "id": "w3pJpWNiLd5y"
      },
      "source": [
        "## Функция"
      ]
    },
    {
      "cell_type": "code",
      "metadata": {
        "id": "mgJhfGOBLg3T"
      },
      "source": [
        "def select(sql):\n",
        "  return pd.read_sql(sql, con)"
      ],
      "execution_count": 9,
      "outputs": []
    },
    {
      "cell_type": "markdown",
      "metadata": {
        "id": "Az_XKKHtL0y_"
      },
      "source": [
        "## Работа с фукцией"
      ]
    },
    {
      "cell_type": "code",
      "metadata": {
        "colab": {
          "base_uri": "https://localhost:8080/",
          "height": 204
        },
        "id": "aaJYo-w_LwHk",
        "outputId": "ac98e1dd-5742-4f1b-c91f-97c32ac70d03"
      },
      "source": [
        "select(sql)"
      ],
      "execution_count": 10,
      "outputs": [
        {
          "output_type": "execute_result",
          "data": {
            "text/html": [
              "<div>\n",
              "<style scoped>\n",
              "    .dataframe tbody tr th:only-of-type {\n",
              "        vertical-align: middle;\n",
              "    }\n",
              "\n",
              "    .dataframe tbody tr th {\n",
              "        vertical-align: top;\n",
              "    }\n",
              "\n",
              "    .dataframe thead th {\n",
              "        text-align: right;\n",
              "    }\n",
              "</style>\n",
              "<table border=\"1\" class=\"dataframe\">\n",
              "  <thead>\n",
              "    <tr style=\"text-align: right;\">\n",
              "      <th></th>\n",
              "      <th>user_id</th>\n",
              "      <th>user_name</th>\n",
              "    </tr>\n",
              "  </thead>\n",
              "  <tbody>\n",
              "    <tr>\n",
              "      <th>0</th>\n",
              "      <td>1</td>\n",
              "      <td>a</td>\n",
              "    </tr>\n",
              "    <tr>\n",
              "      <th>1</th>\n",
              "      <td>2</td>\n",
              "      <td>b</td>\n",
              "    </tr>\n",
              "    <tr>\n",
              "      <th>2</th>\n",
              "      <td>3</td>\n",
              "      <td>c</td>\n",
              "    </tr>\n",
              "    <tr>\n",
              "      <th>3</th>\n",
              "      <td>4</td>\n",
              "      <td>d</td>\n",
              "    </tr>\n",
              "    <tr>\n",
              "      <th>4</th>\n",
              "      <td>5</td>\n",
              "      <td>f</td>\n",
              "    </tr>\n",
              "  </tbody>\n",
              "</table>\n",
              "</div>"
            ],
            "text/plain": [
              "   user_id user_name\n",
              "0        1         a\n",
              "1        2         b\n",
              "2        3         c\n",
              "3        4         d\n",
              "4        5         f"
            ]
          },
          "metadata": {
            "tags": []
          },
          "execution_count": 10
        }
      ]
    },
    {
      "cell_type": "markdown",
      "metadata": {
        "id": "J44iiIDqNkQo"
      },
      "source": [
        "## Подключение и использование Google-таблиц"
      ]
    },
    {
      "cell_type": "markdown",
      "metadata": {
        "id": "vFO6PzAENxR1"
      },
      "source": [
        "https://drive.google.com/file/d/1J_Fb07N_1gg4UP5cYe-zcjSWd_jhDHZ0/view?usp=sharing"
      ]
    },
    {
      "cell_type": "code",
      "metadata": {
        "id": "CnhzireNNr0Y"
      },
      "source": [
        "id='1J_Fb07N_1gg4UP5cYe-zcjSWd_jhDHZ0'"
      ],
      "execution_count": 13,
      "outputs": []
    },
    {
      "cell_type": "code",
      "metadata": {
        "id": "qta0-qs1N6gk"
      },
      "source": [
        "df = pd.read_csv(f'https://docs.google.com/spreadsheets/d/{id}/export?format=csv')"
      ],
      "execution_count": 14,
      "outputs": []
    },
    {
      "cell_type": "code",
      "metadata": {
        "colab": {
          "base_uri": "https://localhost:8080/",
          "height": 855
        },
        "id": "OVaDQXFhONuB",
        "outputId": "71ea7207-4991-48c7-ab76-5e80966d5e9d"
      },
      "source": [
        "df"
      ],
      "execution_count": 15,
      "outputs": [
        {
          "output_type": "execute_result",
          "data": {
            "text/html": [
              "<div>\n",
              "<style scoped>\n",
              "    .dataframe tbody tr th:only-of-type {\n",
              "        vertical-align: middle;\n",
              "    }\n",
              "\n",
              "    .dataframe tbody tr th {\n",
              "        vertical-align: top;\n",
              "    }\n",
              "\n",
              "    .dataframe thead th {\n",
              "        text-align: right;\n",
              "    }\n",
              "</style>\n",
              "<table border=\"1\" class=\"dataframe\">\n",
              "  <thead>\n",
              "    <tr style=\"text-align: right;\">\n",
              "      <th></th>\n",
              "      <th>Филиал</th>\n",
              "      <th>Группа</th>\n",
              "      <th>Функция</th>\n",
              "      <th>Единица работы (драйвер нагрузки)</th>\n",
              "      <th>Объем работы 2014</th>\n",
              "      <th>FTE 2014 (численность)</th>\n",
              "      <th>Unnamed: 6</th>\n",
              "      <th>Unnamed: 7</th>\n",
              "      <th>Unnamed: 8</th>\n",
              "      <th>Unnamed: 9</th>\n",
              "      <th>ПОДСКАЗКИ:</th>\n",
              "    </tr>\n",
              "  </thead>\n",
              "  <tbody>\n",
              "    <tr>\n",
              "      <th>0</th>\n",
              "      <td>ЮДР</td>\n",
              "      <td>Support</td>\n",
              "      <td>Юристы</td>\n",
              "      <td>Суд.дела+0,25*ППР</td>\n",
              "      <td>4 795</td>\n",
              "      <td>25</td>\n",
              "      <td>NaN</td>\n",
              "      <td>NaN</td>\n",
              "      <td>NaN</td>\n",
              "      <td>NaN</td>\n",
              "      <td>1. Из имеющихся переменных посчитайте в отдель...</td>\n",
              "    </tr>\n",
              "    <tr>\n",
              "      <th>1</th>\n",
              "      <td>ВНР</td>\n",
              "      <td>Support</td>\n",
              "      <td>Юристы</td>\n",
              "      <td>Суд.дела+0,25*ППР</td>\n",
              "      <td>5 763</td>\n",
              "      <td>21</td>\n",
              "      <td>NaN</td>\n",
              "      <td>NaN</td>\n",
              "      <td>NaN</td>\n",
              "      <td>NaN</td>\n",
              "      <td>NaN</td>\n",
              "    </tr>\n",
              "    <tr>\n",
              "      <th>2</th>\n",
              "      <td>ДРП</td>\n",
              "      <td>Support</td>\n",
              "      <td>Юристы</td>\n",
              "      <td>Суд.дела+0,25*ППР</td>\n",
              "      <td>9 550</td>\n",
              "      <td>83</td>\n",
              "      <td>NaN</td>\n",
              "      <td>NaN</td>\n",
              "      <td>NaN</td>\n",
              "      <td>NaN</td>\n",
              "      <td>NaN</td>\n",
              "    </tr>\n",
              "    <tr>\n",
              "      <th>3</th>\n",
              "      <td>РДП</td>\n",
              "      <td>Support</td>\n",
              "      <td>Юристы</td>\n",
              "      <td>Суд.дела+0,25*ППР</td>\n",
              "      <td>8 133</td>\n",
              "      <td>50</td>\n",
              "      <td>NaN</td>\n",
              "      <td>NaN</td>\n",
              "      <td>NaN</td>\n",
              "      <td>NaN</td>\n",
              "      <td>2. Рассчитайте медиану по нагрузке в столбце G...</td>\n",
              "    </tr>\n",
              "    <tr>\n",
              "      <th>4</th>\n",
              "      <td>ЖКН</td>\n",
              "      <td>Support</td>\n",
              "      <td>Юристы</td>\n",
              "      <td>Суд.дела+0,25*ППР</td>\n",
              "      <td>2 372</td>\n",
              "      <td>34</td>\n",
              "      <td>NaN</td>\n",
              "      <td>NaN</td>\n",
              "      <td>NaN</td>\n",
              "      <td>NaN</td>\n",
              "      <td>NaN</td>\n",
              "    </tr>\n",
              "    <tr>\n",
              "      <th>5</th>\n",
              "      <td>ЗЗР</td>\n",
              "      <td>Support</td>\n",
              "      <td>Юристы</td>\n",
              "      <td>Суд.дела+0,25*ППР</td>\n",
              "      <td>5 596</td>\n",
              "      <td>27</td>\n",
              "      <td>NaN</td>\n",
              "      <td>NaN</td>\n",
              "      <td>NaN</td>\n",
              "      <td>NaN</td>\n",
              "      <td>NaN</td>\n",
              "    </tr>\n",
              "    <tr>\n",
              "      <th>6</th>\n",
              "      <td>ЗНО</td>\n",
              "      <td>Support</td>\n",
              "      <td>Юристы</td>\n",
              "      <td>Суд.дела+0,25*ППР</td>\n",
              "      <td>7 500</td>\n",
              "      <td>48</td>\n",
              "      <td>NaN</td>\n",
              "      <td>NaN</td>\n",
              "      <td>NaN</td>\n",
              "      <td>NaN</td>\n",
              "      <td>3. В отдельной колонке\\столбце H используя фор...</td>\n",
              "    </tr>\n",
              "    <tr>\n",
              "      <th>7</th>\n",
              "      <td>ИФД</td>\n",
              "      <td>Support</td>\n",
              "      <td>Юристы</td>\n",
              "      <td>Суд.дела+0,25*ППР</td>\n",
              "      <td>6 100</td>\n",
              "      <td>27</td>\n",
              "      <td>NaN</td>\n",
              "      <td>NaN</td>\n",
              "      <td>NaN</td>\n",
              "      <td>NaN</td>\n",
              "      <td>NaN</td>\n",
              "    </tr>\n",
              "    <tr>\n",
              "      <th>8</th>\n",
              "      <td>КСМ</td>\n",
              "      <td>Support</td>\n",
              "      <td>Юристы</td>\n",
              "      <td>Суд.дела+0,25*ППР</td>\n",
              "      <td>8 100</td>\n",
              "      <td>58</td>\n",
              "      <td>NaN</td>\n",
              "      <td>NaN</td>\n",
              "      <td>NaN</td>\n",
              "      <td>NaN</td>\n",
              "      <td>NaN</td>\n",
              "    </tr>\n",
              "    <tr>\n",
              "      <th>9</th>\n",
              "      <td>КЛЖ</td>\n",
              "      <td>Support</td>\n",
              "      <td>Юристы</td>\n",
              "      <td>Суд.дела+0,25*ППР</td>\n",
              "      <td>4 805</td>\n",
              "      <td>24</td>\n",
              "      <td>NaN</td>\n",
              "      <td>NaN</td>\n",
              "      <td>NaN</td>\n",
              "      <td>NaN</td>\n",
              "      <td>NaN</td>\n",
              "    </tr>\n",
              "    <tr>\n",
              "      <th>10</th>\n",
              "      <td>ЛЛП</td>\n",
              "      <td>Support</td>\n",
              "      <td>Юристы</td>\n",
              "      <td>Суд.дела+0,25*ППР</td>\n",
              "      <td>2 312</td>\n",
              "      <td>28</td>\n",
              "      <td>NaN</td>\n",
              "      <td>NaN</td>\n",
              "      <td>NaN</td>\n",
              "      <td>NaN</td>\n",
              "      <td>NaN</td>\n",
              "    </tr>\n",
              "    <tr>\n",
              "      <th>11</th>\n",
              "      <td>ЛДТ</td>\n",
              "      <td>Support</td>\n",
              "      <td>Юристы</td>\n",
              "      <td>Суд.дела+0,25*ППР</td>\n",
              "      <td>6 044</td>\n",
              "      <td>65</td>\n",
              "      <td>NaN</td>\n",
              "      <td>NaN</td>\n",
              "      <td>NaN</td>\n",
              "      <td>NaN</td>\n",
              "      <td>NaN</td>\n",
              "    </tr>\n",
              "    <tr>\n",
              "      <th>12</th>\n",
              "      <td>МПК</td>\n",
              "      <td>Support</td>\n",
              "      <td>Юристы</td>\n",
              "      <td>Суд.дела+0,25*ППР</td>\n",
              "      <td>3 848</td>\n",
              "      <td>29</td>\n",
              "      <td>NaN</td>\n",
              "      <td>NaN</td>\n",
              "      <td>NaN</td>\n",
              "      <td>NaN</td>\n",
              "      <td>NaN</td>\n",
              "    </tr>\n",
              "    <tr>\n",
              "      <th>13</th>\n",
              "      <td>ОРП</td>\n",
              "      <td>Support</td>\n",
              "      <td>Юристы</td>\n",
              "      <td>Суд.дела+0,25*ППР</td>\n",
              "      <td>5 451</td>\n",
              "      <td>65</td>\n",
              "      <td>NaN</td>\n",
              "      <td>NaN</td>\n",
              "      <td>NaN</td>\n",
              "      <td>NaN</td>\n",
              "      <td>NaN</td>\n",
              "    </tr>\n",
              "    <tr>\n",
              "      <th>14</th>\n",
              "      <td>ПБД</td>\n",
              "      <td>Support</td>\n",
              "      <td>Юристы</td>\n",
              "      <td>Суд.дела+0,25*ППР</td>\n",
              "      <td>6 941</td>\n",
              "      <td>43</td>\n",
              "      <td>NaN</td>\n",
              "      <td>NaN</td>\n",
              "      <td>NaN</td>\n",
              "      <td>NaN</td>\n",
              "      <td>NaN</td>\n",
              "    </tr>\n",
              "    <tr>\n",
              "      <th>15</th>\n",
              "      <td>РСС</td>\n",
              "      <td>Support</td>\n",
              "      <td>Юристы</td>\n",
              "      <td>Суд.дела+0,25*ППР</td>\n",
              "      <td>7 553</td>\n",
              "      <td>24</td>\n",
              "      <td>NaN</td>\n",
              "      <td>NaN</td>\n",
              "      <td>NaN</td>\n",
              "      <td>NaN</td>\n",
              "      <td>NaN</td>\n",
              "    </tr>\n",
              "    <tr>\n",
              "      <th>16</th>\n",
              "      <td>СРБ</td>\n",
              "      <td>Support</td>\n",
              "      <td>Юристы</td>\n",
              "      <td>Суд.дела+0,25*ППР</td>\n",
              "      <td>4 986</td>\n",
              "      <td>19</td>\n",
              "      <td>NaN</td>\n",
              "      <td>NaN</td>\n",
              "      <td>NaN</td>\n",
              "      <td>NaN</td>\n",
              "      <td>NaN</td>\n",
              "    </tr>\n",
              "    <tr>\n",
              "      <th>17</th>\n",
              "      <td>ТМВ</td>\n",
              "      <td>Support</td>\n",
              "      <td>Юристы</td>\n",
              "      <td>Суд.дела+0,25*ППР</td>\n",
              "      <td>4 214</td>\n",
              "      <td>15</td>\n",
              "      <td>NaN</td>\n",
              "      <td>NaN</td>\n",
              "      <td>NaN</td>\n",
              "      <td>NaN</td>\n",
              "      <td>NaN</td>\n",
              "    </tr>\n",
              "    <tr>\n",
              "      <th>18</th>\n",
              "      <td>ХЦП</td>\n",
              "      <td>Support</td>\n",
              "      <td>Юристы</td>\n",
              "      <td>Суд.дела+0,25*ППР</td>\n",
              "      <td>16 900</td>\n",
              "      <td>77</td>\n",
              "      <td>NaN</td>\n",
              "      <td>NaN</td>\n",
              "      <td>NaN</td>\n",
              "      <td>NaN</td>\n",
              "      <td>NaN</td>\n",
              "    </tr>\n",
              "    <tr>\n",
              "      <th>19</th>\n",
              "      <td>ХФВ</td>\n",
              "      <td>Support</td>\n",
              "      <td>Юристы</td>\n",
              "      <td>Суд.дела+0,25*ППР</td>\n",
              "      <td>2 325</td>\n",
              "      <td>26</td>\n",
              "      <td>NaN</td>\n",
              "      <td>NaN</td>\n",
              "      <td>NaN</td>\n",
              "      <td>NaN</td>\n",
              "      <td>NaN</td>\n",
              "    </tr>\n",
              "    <tr>\n",
              "      <th>20</th>\n",
              "      <td>ХММ</td>\n",
              "      <td>Support</td>\n",
              "      <td>Юристы</td>\n",
              "      <td>Суд.дела+0,25*ППР</td>\n",
              "      <td>4 959</td>\n",
              "      <td>45</td>\n",
              "      <td>NaN</td>\n",
              "      <td>NaN</td>\n",
              "      <td>NaN</td>\n",
              "      <td>NaN</td>\n",
              "      <td>NaN</td>\n",
              "    </tr>\n",
              "    <tr>\n",
              "      <th>21</th>\n",
              "      <td>ЧПР</td>\n",
              "      <td>Support</td>\n",
              "      <td>Юристы</td>\n",
              "      <td>Суд.дела+0,25*ППР</td>\n",
              "      <td>7 765</td>\n",
              "      <td>36</td>\n",
              "      <td>NaN</td>\n",
              "      <td>NaN</td>\n",
              "      <td>NaN</td>\n",
              "      <td>NaN</td>\n",
              "      <td>NaN</td>\n",
              "    </tr>\n",
              "    <tr>\n",
              "      <th>22</th>\n",
              "      <td>ЧВК</td>\n",
              "      <td>Support</td>\n",
              "      <td>Юристы</td>\n",
              "      <td>Суд.дела+0,25*ППР</td>\n",
              "      <td>7 389</td>\n",
              "      <td>21</td>\n",
              "      <td>NaN</td>\n",
              "      <td>NaN</td>\n",
              "      <td>NaN</td>\n",
              "      <td>NaN</td>\n",
              "      <td>NaN</td>\n",
              "    </tr>\n",
              "    <tr>\n",
              "      <th>23</th>\n",
              "      <td>ЧСИ</td>\n",
              "      <td>Support</td>\n",
              "      <td>Юристы</td>\n",
              "      <td>Суд.дела+0,25*ППР</td>\n",
              "      <td>5 100</td>\n",
              "      <td>28</td>\n",
              "      <td>NaN</td>\n",
              "      <td>NaN</td>\n",
              "      <td>NaN</td>\n",
              "      <td>NaN</td>\n",
              "      <td>NaN</td>\n",
              "    </tr>\n",
              "    <tr>\n",
              "      <th>24</th>\n",
              "      <td>кдд</td>\n",
              "      <td>Support</td>\n",
              "      <td>Юристы</td>\n",
              "      <td>Суд.дела+0,25*ППР</td>\n",
              "      <td>9 300</td>\n",
              "      <td>62</td>\n",
              "      <td>NaN</td>\n",
              "      <td>NaN</td>\n",
              "      <td>NaN</td>\n",
              "      <td>NaN</td>\n",
              "      <td>NaN</td>\n",
              "    </tr>\n",
              "    <tr>\n",
              "      <th>25</th>\n",
              "      <td>ЛТО</td>\n",
              "      <td>Support</td>\n",
              "      <td>Юристы</td>\n",
              "      <td>Суд.дела+0,25*ППР</td>\n",
              "      <td>4 693</td>\n",
              "      <td>49</td>\n",
              "      <td>NaN</td>\n",
              "      <td>NaN</td>\n",
              "      <td>NaN</td>\n",
              "      <td>NaN</td>\n",
              "      <td>NaN</td>\n",
              "    </tr>\n",
              "  </tbody>\n",
              "</table>\n",
              "</div>"
            ],
            "text/plain": [
              "   Филиал  ...                                         ПОДСКАЗКИ:\n",
              "0     ЮДР  ...  1. Из имеющихся переменных посчитайте в отдель...\n",
              "1     ВНР  ...                                                NaN\n",
              "2     ДРП  ...                                                NaN\n",
              "3     РДП  ...  2. Рассчитайте медиану по нагрузке в столбце G...\n",
              "4     ЖКН  ...                                                NaN\n",
              "5     ЗЗР  ...                                                NaN\n",
              "6     ЗНО  ...  3. В отдельной колонке\\столбце H используя фор...\n",
              "7     ИФД  ...                                                NaN\n",
              "8     КСМ  ...                                                NaN\n",
              "9     КЛЖ  ...                                                NaN\n",
              "10    ЛЛП  ...                                                NaN\n",
              "11    ЛДТ  ...                                                NaN\n",
              "12    МПК  ...                                                NaN\n",
              "13    ОРП  ...                                                NaN\n",
              "14    ПБД  ...                                                NaN\n",
              "15    РСС  ...                                                NaN\n",
              "16    СРБ  ...                                                NaN\n",
              "17    ТМВ  ...                                                NaN\n",
              "18    ХЦП  ...                                                NaN\n",
              "19    ХФВ  ...                                                NaN\n",
              "20    ХММ  ...                                                NaN\n",
              "21    ЧПР  ...                                                NaN\n",
              "22    ЧВК  ...                                                NaN\n",
              "23    ЧСИ  ...                                                NaN\n",
              "24    кдд  ...                                                NaN\n",
              "25    ЛТО  ...                                                NaN\n",
              "\n",
              "[26 rows x 11 columns]"
            ]
          },
          "metadata": {
            "tags": []
          },
          "execution_count": 15
        }
      ]
    }
  ]
}